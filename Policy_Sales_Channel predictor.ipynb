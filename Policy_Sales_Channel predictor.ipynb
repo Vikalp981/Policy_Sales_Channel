{
 "cells": [
  {
   "cell_type": "code",
   "execution_count": 1,
   "id": "6bdd7de7",
   "metadata": {},
   "outputs": [],
   "source": [
    "# Following Libraries are being used\n",
    "import pandas as pd\n",
    "import numpy as np\n",
    "import seaborn as sns\n",
    "import matplotlib.pyplot as plt\n",
    "import itertools\n",
    "import time\n",
    "import statsmodels.api as sm\n",
    "from sklearn import linear_model #For missing values\n",
    "from sklearn.preprocessing import StandardScaler #For scaling features\n",
    "\n",
    "from sklearn.model_selection import train_test_split\n",
    "from sklearn.metrics import mean_squared_error\n",
    "from sklearn.linear_model import LinearRegression #Linear Regressor"
   ]
  },
  {
   "cell_type": "code",
   "execution_count": 2,
   "id": "c782fba5",
   "metadata": {},
   "outputs": [],
   "source": [
    "data=pd.read_csv(\"insurance_train.csv\")"
   ]
  },
  {
   "cell_type": "code",
   "execution_count": 3,
   "id": "2f1fa221",
   "metadata": {},
   "outputs": [
    {
     "data": {
      "text/html": [
       "<div>\n",
       "<style scoped>\n",
       "    .dataframe tbody tr th:only-of-type {\n",
       "        vertical-align: middle;\n",
       "    }\n",
       "\n",
       "    .dataframe tbody tr th {\n",
       "        vertical-align: top;\n",
       "    }\n",
       "\n",
       "    .dataframe thead th {\n",
       "        text-align: right;\n",
       "    }\n",
       "</style>\n",
       "<table border=\"1\" class=\"dataframe\">\n",
       "  <thead>\n",
       "    <tr style=\"text-align: right;\">\n",
       "      <th></th>\n",
       "      <th>id</th>\n",
       "      <th>Gender</th>\n",
       "      <th>Age</th>\n",
       "      <th>Driving_License</th>\n",
       "      <th>Region_Code</th>\n",
       "      <th>Previously_Insured</th>\n",
       "      <th>Vehicle_Age</th>\n",
       "      <th>Vehicle_Damage</th>\n",
       "      <th>Annual_Premium</th>\n",
       "      <th>Policy_Sales_Channel</th>\n",
       "      <th>Vintage</th>\n",
       "      <th>Response</th>\n",
       "    </tr>\n",
       "  </thead>\n",
       "  <tbody>\n",
       "    <tr>\n",
       "      <th>0</th>\n",
       "      <td>1</td>\n",
       "      <td>Male</td>\n",
       "      <td>44</td>\n",
       "      <td>1</td>\n",
       "      <td>28.0</td>\n",
       "      <td>0</td>\n",
       "      <td>&gt; 2 Years</td>\n",
       "      <td>Yes</td>\n",
       "      <td>40454.0</td>\n",
       "      <td>26.0</td>\n",
       "      <td>217</td>\n",
       "      <td>1</td>\n",
       "    </tr>\n",
       "    <tr>\n",
       "      <th>1</th>\n",
       "      <td>2</td>\n",
       "      <td>Male</td>\n",
       "      <td>76</td>\n",
       "      <td>1</td>\n",
       "      <td>3.0</td>\n",
       "      <td>0</td>\n",
       "      <td>1-2 Year</td>\n",
       "      <td>No</td>\n",
       "      <td>33536.0</td>\n",
       "      <td>26.0</td>\n",
       "      <td>183</td>\n",
       "      <td>0</td>\n",
       "    </tr>\n",
       "    <tr>\n",
       "      <th>2</th>\n",
       "      <td>3</td>\n",
       "      <td>Male</td>\n",
       "      <td>47</td>\n",
       "      <td>1</td>\n",
       "      <td>28.0</td>\n",
       "      <td>0</td>\n",
       "      <td>&gt; 2 Years</td>\n",
       "      <td>Yes</td>\n",
       "      <td>38294.0</td>\n",
       "      <td>26.0</td>\n",
       "      <td>27</td>\n",
       "      <td>1</td>\n",
       "    </tr>\n",
       "    <tr>\n",
       "      <th>3</th>\n",
       "      <td>4</td>\n",
       "      <td>Male</td>\n",
       "      <td>21</td>\n",
       "      <td>1</td>\n",
       "      <td>11.0</td>\n",
       "      <td>1</td>\n",
       "      <td>&lt; 1 Year</td>\n",
       "      <td>No</td>\n",
       "      <td>28619.0</td>\n",
       "      <td>152.0</td>\n",
       "      <td>203</td>\n",
       "      <td>0</td>\n",
       "    </tr>\n",
       "    <tr>\n",
       "      <th>4</th>\n",
       "      <td>5</td>\n",
       "      <td>Female</td>\n",
       "      <td>29</td>\n",
       "      <td>1</td>\n",
       "      <td>41.0</td>\n",
       "      <td>1</td>\n",
       "      <td>&lt; 1 Year</td>\n",
       "      <td>No</td>\n",
       "      <td>27496.0</td>\n",
       "      <td>152.0</td>\n",
       "      <td>39</td>\n",
       "      <td>0</td>\n",
       "    </tr>\n",
       "  </tbody>\n",
       "</table>\n",
       "</div>"
      ],
      "text/plain": [
       "   id  Gender  Age  Driving_License  Region_Code  Previously_Insured  \\\n",
       "0   1    Male   44                1         28.0                   0   \n",
       "1   2    Male   76                1          3.0                   0   \n",
       "2   3    Male   47                1         28.0                   0   \n",
       "3   4    Male   21                1         11.0                   1   \n",
       "4   5  Female   29                1         41.0                   1   \n",
       "\n",
       "  Vehicle_Age Vehicle_Damage  Annual_Premium  Policy_Sales_Channel  Vintage  \\\n",
       "0   > 2 Years            Yes         40454.0                  26.0      217   \n",
       "1    1-2 Year             No         33536.0                  26.0      183   \n",
       "2   > 2 Years            Yes         38294.0                  26.0       27   \n",
       "3    < 1 Year             No         28619.0                 152.0      203   \n",
       "4    < 1 Year             No         27496.0                 152.0       39   \n",
       "\n",
       "   Response  \n",
       "0         1  \n",
       "1         0  \n",
       "2         1  \n",
       "3         0  \n",
       "4         0  "
      ]
     },
     "execution_count": 3,
     "metadata": {},
     "output_type": "execute_result"
    }
   ],
   "source": [
    "data.head()"
   ]
  },
  {
   "cell_type": "code",
   "execution_count": 4,
   "id": "aa929ff6",
   "metadata": {},
   "outputs": [
    {
     "data": {
      "text/plain": [
       "(381109, 12)"
      ]
     },
     "execution_count": 4,
     "metadata": {},
     "output_type": "execute_result"
    }
   ],
   "source": [
    "data.shape"
   ]
  },
  {
   "cell_type": "code",
   "execution_count": 5,
   "id": "cfc6665a",
   "metadata": {},
   "outputs": [
    {
     "data": {
      "text/plain": [
       "Index(['id', 'Gender', 'Age', 'Driving_License', 'Region_Code',\n",
       "       'Previously_Insured', 'Vehicle_Age', 'Vehicle_Damage', 'Annual_Premium',\n",
       "       'Policy_Sales_Channel', 'Vintage', 'Response'],\n",
       "      dtype='object')"
      ]
     },
     "execution_count": 5,
     "metadata": {},
     "output_type": "execute_result"
    }
   ],
   "source": [
    "data.columns"
   ]
  },
  {
   "cell_type": "code",
   "execution_count": 6,
   "id": "20af0738",
   "metadata": {},
   "outputs": [
    {
     "data": {
      "text/plain": [
       "<bound method NDFrame.describe of             id  Gender  Age  Driving_License  Region_Code  Previously_Insured  \\\n",
       "0            1    Male   44                1         28.0                   0   \n",
       "1            2    Male   76                1          3.0                   0   \n",
       "2            3    Male   47                1         28.0                   0   \n",
       "3            4    Male   21                1         11.0                   1   \n",
       "4            5  Female   29                1         41.0                   1   \n",
       "...        ...     ...  ...              ...          ...                 ...   \n",
       "381104  381105    Male   74                1         26.0                   1   \n",
       "381105  381106    Male   30                1         37.0                   1   \n",
       "381106  381107    Male   21                1         30.0                   1   \n",
       "381107  381108  Female   68                1         14.0                   0   \n",
       "381108  381109    Male   46                1         29.0                   0   \n",
       "\n",
       "       Vehicle_Age Vehicle_Damage  Annual_Premium  Policy_Sales_Channel  \\\n",
       "0        > 2 Years            Yes         40454.0                  26.0   \n",
       "1         1-2 Year             No         33536.0                  26.0   \n",
       "2        > 2 Years            Yes         38294.0                  26.0   \n",
       "3         < 1 Year             No         28619.0                 152.0   \n",
       "4         < 1 Year             No         27496.0                 152.0   \n",
       "...            ...            ...             ...                   ...   \n",
       "381104    1-2 Year             No         30170.0                  26.0   \n",
       "381105    < 1 Year             No         40016.0                 152.0   \n",
       "381106    < 1 Year             No         35118.0                 160.0   \n",
       "381107   > 2 Years            Yes         44617.0                 124.0   \n",
       "381108    1-2 Year             No         41777.0                  26.0   \n",
       "\n",
       "        Vintage  Response  \n",
       "0           217         1  \n",
       "1           183         0  \n",
       "2            27         1  \n",
       "3           203         0  \n",
       "4            39         0  \n",
       "...         ...       ...  \n",
       "381104       88         0  \n",
       "381105      131         0  \n",
       "381106      161         0  \n",
       "381107       74         0  \n",
       "381108      237         0  \n",
       "\n",
       "[381109 rows x 12 columns]>"
      ]
     },
     "execution_count": 6,
     "metadata": {},
     "output_type": "execute_result"
    }
   ],
   "source": [
    "data.describe"
   ]
  },
  {
   "cell_type": "code",
   "execution_count": 7,
   "id": "098fa9a7",
   "metadata": {},
   "outputs": [
    {
     "data": {
      "text/plain": [
       "id                        int64\n",
       "Gender                   object\n",
       "Age                       int64\n",
       "Driving_License           int64\n",
       "Region_Code             float64\n",
       "Previously_Insured        int64\n",
       "Vehicle_Age              object\n",
       "Vehicle_Damage           object\n",
       "Annual_Premium          float64\n",
       "Policy_Sales_Channel    float64\n",
       "Vintage                   int64\n",
       "Response                  int64\n",
       "dtype: object"
      ]
     },
     "execution_count": 7,
     "metadata": {},
     "output_type": "execute_result"
    }
   ],
   "source": [
    "data.dtypes"
   ]
  },
  {
   "cell_type": "code",
   "execution_count": 8,
   "id": "a1fbdd83",
   "metadata": {},
   "outputs": [
    {
     "data": {
      "text/plain": [
       "id                      0\n",
       "Gender                  0\n",
       "Age                     0\n",
       "Driving_License         0\n",
       "Region_Code             0\n",
       "Previously_Insured      0\n",
       "Vehicle_Age             0\n",
       "Vehicle_Damage          0\n",
       "Annual_Premium          0\n",
       "Policy_Sales_Channel    0\n",
       "Vintage                 0\n",
       "Response                0\n",
       "dtype: int64"
      ]
     },
     "execution_count": 8,
     "metadata": {},
     "output_type": "execute_result"
    }
   ],
   "source": [
    "data.isnull().sum()"
   ]
  },
  {
   "cell_type": "code",
   "execution_count": 9,
   "id": "5057a4f3",
   "metadata": {},
   "outputs": [],
   "source": [
    "# Make a copy of data\n",
    "train_data = data.copy()"
   ]
  },
  {
   "cell_type": "code",
   "execution_count": 10,
   "id": "919db6c4",
   "metadata": {},
   "outputs": [
    {
     "data": {
      "text/plain": [
       "['Gender', 'Vehicle_Age', 'Vehicle_Damage']"
      ]
     },
     "execution_count": 10,
     "metadata": {},
     "output_type": "execute_result"
    }
   ],
   "source": [
    "# Get all features with type 'object'\n",
    "col_list = [c for c in train_data.columns if train_data[c].dtype == 'object']\n",
    "col_list"
   ]
  },
  {
   "cell_type": "code",
   "execution_count": 11,
   "id": "12999e7e",
   "metadata": {},
   "outputs": [],
   "source": [
    "# Encode features \n",
    "for c in col_list:\n",
    "        train_data[c] = train_data[c].astype('category')\n",
    "        train_data[c] = train_data[c].cat.codes #categorizing variables into numbers"
   ]
  },
  {
   "cell_type": "code",
   "execution_count": 12,
   "id": "488815f6",
   "metadata": {},
   "outputs": [
    {
     "name": "stdout",
     "output_type": "stream",
     "text": [
      "['Male', 'Female']\n",
      "[1, 0] \n",
      "\n"
     ]
    }
   ],
   "source": [
    "# Compare actual and encoded labels for column 'Gender'\n",
    "print(data['Gender'].unique().tolist())\n",
    "print(train_data['Gender'].unique().tolist(), '\\n')"
   ]
  },
  {
   "cell_type": "code",
   "execution_count": 13,
   "id": "e046e048",
   "metadata": {},
   "outputs": [
    {
     "name": "stdout",
     "output_type": "stream",
     "text": [
      "['> 2 Years', '1-2 Year', '< 1 Year']\n",
      "[2, 0, 1] \n",
      "\n"
     ]
    }
   ],
   "source": [
    "# Compare actual and encoded labels for column 'Vehicle_Age'\n",
    "print(data['Vehicle_Age'].unique().tolist())\n",
    "print(train_data['Vehicle_Age'].unique().tolist(), '\\n')"
   ]
  },
  {
   "cell_type": "code",
   "execution_count": 14,
   "id": "3762ce63",
   "metadata": {},
   "outputs": [
    {
     "name": "stdout",
     "output_type": "stream",
     "text": [
      "['Yes', 'No']\n",
      "[1, 0] \n",
      "\n"
     ]
    }
   ],
   "source": [
    "# Compare actual and encoded labels for column 'Vehicle_Damage'\n",
    "print(data['Vehicle_Damage'].unique().tolist())\n",
    "print(train_data['Vehicle_Damage'].unique().tolist(), '\\n')"
   ]
  },
  {
   "cell_type": "code",
   "execution_count": 15,
   "id": "7d443138",
   "metadata": {},
   "outputs": [
    {
     "data": {
      "text/html": [
       "<div>\n",
       "<style scoped>\n",
       "    .dataframe tbody tr th:only-of-type {\n",
       "        vertical-align: middle;\n",
       "    }\n",
       "\n",
       "    .dataframe tbody tr th {\n",
       "        vertical-align: top;\n",
       "    }\n",
       "\n",
       "    .dataframe thead th {\n",
       "        text-align: right;\n",
       "    }\n",
       "</style>\n",
       "<table border=\"1\" class=\"dataframe\">\n",
       "  <thead>\n",
       "    <tr style=\"text-align: right;\">\n",
       "      <th></th>\n",
       "      <th>id</th>\n",
       "      <th>Gender</th>\n",
       "      <th>Age</th>\n",
       "      <th>Driving_License</th>\n",
       "      <th>Region_Code</th>\n",
       "      <th>Previously_Insured</th>\n",
       "      <th>Vehicle_Age</th>\n",
       "      <th>Vehicle_Damage</th>\n",
       "      <th>Annual_Premium</th>\n",
       "      <th>Policy_Sales_Channel</th>\n",
       "      <th>Vintage</th>\n",
       "      <th>Response</th>\n",
       "    </tr>\n",
       "  </thead>\n",
       "  <tbody>\n",
       "    <tr>\n",
       "      <th>0</th>\n",
       "      <td>1</td>\n",
       "      <td>1</td>\n",
       "      <td>44</td>\n",
       "      <td>1</td>\n",
       "      <td>28.0</td>\n",
       "      <td>0</td>\n",
       "      <td>2</td>\n",
       "      <td>1</td>\n",
       "      <td>40454.0</td>\n",
       "      <td>26.0</td>\n",
       "      <td>217</td>\n",
       "      <td>1</td>\n",
       "    </tr>\n",
       "    <tr>\n",
       "      <th>1</th>\n",
       "      <td>2</td>\n",
       "      <td>1</td>\n",
       "      <td>76</td>\n",
       "      <td>1</td>\n",
       "      <td>3.0</td>\n",
       "      <td>0</td>\n",
       "      <td>0</td>\n",
       "      <td>0</td>\n",
       "      <td>33536.0</td>\n",
       "      <td>26.0</td>\n",
       "      <td>183</td>\n",
       "      <td>0</td>\n",
       "    </tr>\n",
       "    <tr>\n",
       "      <th>2</th>\n",
       "      <td>3</td>\n",
       "      <td>1</td>\n",
       "      <td>47</td>\n",
       "      <td>1</td>\n",
       "      <td>28.0</td>\n",
       "      <td>0</td>\n",
       "      <td>2</td>\n",
       "      <td>1</td>\n",
       "      <td>38294.0</td>\n",
       "      <td>26.0</td>\n",
       "      <td>27</td>\n",
       "      <td>1</td>\n",
       "    </tr>\n",
       "    <tr>\n",
       "      <th>3</th>\n",
       "      <td>4</td>\n",
       "      <td>1</td>\n",
       "      <td>21</td>\n",
       "      <td>1</td>\n",
       "      <td>11.0</td>\n",
       "      <td>1</td>\n",
       "      <td>1</td>\n",
       "      <td>0</td>\n",
       "      <td>28619.0</td>\n",
       "      <td>152.0</td>\n",
       "      <td>203</td>\n",
       "      <td>0</td>\n",
       "    </tr>\n",
       "    <tr>\n",
       "      <th>4</th>\n",
       "      <td>5</td>\n",
       "      <td>0</td>\n",
       "      <td>29</td>\n",
       "      <td>1</td>\n",
       "      <td>41.0</td>\n",
       "      <td>1</td>\n",
       "      <td>1</td>\n",
       "      <td>0</td>\n",
       "      <td>27496.0</td>\n",
       "      <td>152.0</td>\n",
       "      <td>39</td>\n",
       "      <td>0</td>\n",
       "    </tr>\n",
       "  </tbody>\n",
       "</table>\n",
       "</div>"
      ],
      "text/plain": [
       "   id  Gender  Age  Driving_License  Region_Code  Previously_Insured  \\\n",
       "0   1       1   44                1         28.0                   0   \n",
       "1   2       1   76                1          3.0                   0   \n",
       "2   3       1   47                1         28.0                   0   \n",
       "3   4       1   21                1         11.0                   1   \n",
       "4   5       0   29                1         41.0                   1   \n",
       "\n",
       "   Vehicle_Age  Vehicle_Damage  Annual_Premium  Policy_Sales_Channel  Vintage  \\\n",
       "0            2               1         40454.0                  26.0      217   \n",
       "1            0               0         33536.0                  26.0      183   \n",
       "2            2               1         38294.0                  26.0       27   \n",
       "3            1               0         28619.0                 152.0      203   \n",
       "4            1               0         27496.0                 152.0       39   \n",
       "\n",
       "   Response  \n",
       "0         1  \n",
       "1         0  \n",
       "2         1  \n",
       "3         0  \n",
       "4         0  "
      ]
     },
     "execution_count": 15,
     "metadata": {},
     "output_type": "execute_result"
    }
   ],
   "source": [
    "train_data.head()"
   ]
  },
  {
   "cell_type": "code",
   "execution_count": 16,
   "id": "14dff752",
   "metadata": {},
   "outputs": [
    {
     "data": {
      "text/plain": [
       "<AxesSubplot:>"
      ]
     },
     "execution_count": 16,
     "metadata": {},
     "output_type": "execute_result"
    },
    {
     "data": {
      "image/png": "[encoded data removed]",
      "text/plain": [
       "<Figure size 1440x720 with 2 Axes>"
      ]
     },
     "metadata": {
      "needs_background": "light"
     },
     "output_type": "display_data"
    }
   ],
   "source": [
    "import seaborn as sns\n",
    "plt.figure(figsize=(20,10))\n",
    "sns.heatmap(train_data.corr(),annot = True, cmap = 'coolwarm')"
   ]
  },
  {
   "cell_type": "markdown",
   "id": "0685b9c2",
   "metadata": {},
   "source": [
    "## Top3 correlated features with policy_sales_channel are Vehicle_age, Previously_insured and driving license"
   ]
  },
  {
   "cell_type": "markdown",
   "id": "97d1061c",
   "metadata": {},
   "source": [
    "### Now we will see relation of them one by one and plot best fit line for each case"
   ]
  },
  {
   "cell_type": "markdown",
   "id": "06c22bb0",
   "metadata": {},
   "source": [
    "# Policy_Sales_Channel vs Vehicle_Age"
   ]
  },
  {
   "cell_type": "code",
   "execution_count": 17,
   "id": "92ab77d4",
   "metadata": {},
   "outputs": [],
   "source": [
    "x=train_data.Vehicle_Age.to_numpy()\n",
    "y=train_data.Policy_Sales_Channel.to_numpy()"
   ]
  },
  {
   "cell_type": "code",
   "execution_count": 18,
   "id": "cb078ed7",
   "metadata": {},
   "outputs": [
    {
     "data": {
      "text/plain": [
       "<matplotlib.collections.PathCollection at 0x1c801430>"
      ]
     },
     "execution_count": 18,
     "metadata": {},
     "output_type": "execute_result"
    },
    {
     "data": {
      "image/png": "[encoded data removed]",
      "text/plain": [
       "<Figure size 432x288 with 1 Axes>"
      ]
     },
     "metadata": {
      "needs_background": "light"
     },
     "output_type": "display_data"
    }
   ],
   "source": [
    "plt.scatter(x,y)"
   ]
  },
  {
   "cell_type": "code",
   "execution_count": 19,
   "id": "f8c33b1d",
   "metadata": {},
   "outputs": [],
   "source": [
    "m,c=np.random.random(),np.random.random()"
   ]
  },
  {
   "cell_type": "code",
   "execution_count": 20,
   "id": "d3ebd404",
   "metadata": {},
   "outputs": [],
   "source": [
    "def learn(x,y,m,c,epoch):\n",
    "    for i in range(epoch):\n",
    "        error=y-(m*x+c)\n",
    "        x_error=(y-(m*x+c))*x\n",
    "        error=np.sum(error)/len(x)\n",
    "        x_error=np.sum(x_error)/len(x)\n",
    "        learning_rate = 0.01\n",
    "        delta_m= learning_rate *x_error\n",
    "        delta_c =learning_rate*error\n",
    "        m+=delta_m\n",
    "        c+=delta_c\n",
    "    return(m,c)   "
   ]
  },
  {
   "cell_type": "code",
   "execution_count": 21,
   "id": "37ffd048",
   "metadata": {},
   "outputs": [],
   "source": [
    "m,c=learn(x,y,m,c,200)"
   ]
  },
  {
   "cell_type": "code",
   "execution_count": 22,
   "id": "84286a2b",
   "metadata": {},
   "outputs": [],
   "source": [
    "x1=[0,1]\n",
    "y1=[0*m+c,1*m+c]"
   ]
  },
  {
   "cell_type": "code",
   "execution_count": 23,
   "id": "9d79a719",
   "metadata": {},
   "outputs": [
    {
     "data": {
      "text/plain": [
       "[<matplotlib.lines.Line2D at 0x1caac130>]"
      ]
     },
     "execution_count": 23,
     "metadata": {},
     "output_type": "execute_result"
    },
    {
     "data": {
      "image/png": "[encoded data removed]",
      "text/plain": [
       "<Figure size 432x288 with 1 Axes>"
      ]
     },
     "metadata": {
      "needs_background": "light"
     },
     "output_type": "display_data"
    }
   ],
   "source": [
    "plt.scatter(x,y)\n",
    "plt.plot(x1,y1,color='red')"
   ]
  },
  {
   "cell_type": "markdown",
   "id": "0dfad47c",
   "metadata": {},
   "source": [
    "# Policy_Sales_Channel vs Previously_Insured"
   ]
  },
  {
   "cell_type": "code",
   "execution_count": 24,
   "id": "9ea4782a",
   "metadata": {},
   "outputs": [],
   "source": [
    "x=train_data.Previously_Insured.to_numpy()\n",
    "y=train_data.Policy_Sales_Channel.to_numpy()"
   ]
  },
  {
   "cell_type": "code",
   "execution_count": 25,
   "id": "3c7ca05d",
   "metadata": {},
   "outputs": [
    {
     "data": {
      "text/plain": [
       "<matplotlib.collections.PathCollection at 0x1cb0f1c0>"
      ]
     },
     "execution_count": 25,
     "metadata": {},
     "output_type": "execute_result"
    },
    {
     "data": {
      "image/png": "[encoded data removed]",
      "text/plain": [
       "<Figure size 432x288 with 1 Axes>"
      ]
     },
     "metadata": {
      "needs_background": "light"
     },
     "output_type": "display_data"
    }
   ],
   "source": [
    "plt.scatter(x,y)"
   ]
  },
  {
   "cell_type": "code",
   "execution_count": 26,
   "id": "d2c51e5e",
   "metadata": {},
   "outputs": [],
   "source": [
    "m,c=np.random.random(),np.random.random()"
   ]
  },
  {
   "cell_type": "code",
   "execution_count": 27,
   "id": "d4034e82",
   "metadata": {},
   "outputs": [],
   "source": [
    "def learn(x,y,m,c,epoch):\n",
    "    for i in range(epoch):\n",
    "        error=y-(m*x+c)\n",
    "        x_error=(y-(m*x+c))*x\n",
    "        error=np.sum(error)/len(x)\n",
    "        x_error=np.sum(x_error)/len(x)\n",
    "        learning_rate = 0.01\n",
    "        delta_m= learning_rate *x_error\n",
    "        delta_c =learning_rate*error\n",
    "        m+=delta_m\n",
    "        c+=delta_c\n",
    "    return(m,c)  "
   ]
  },
  {
   "cell_type": "code",
   "execution_count": 28,
   "id": "a9b41fd2",
   "metadata": {},
   "outputs": [],
   "source": [
    "m,c=learn(x,y,m,c,200)"
   ]
  },
  {
   "cell_type": "code",
   "execution_count": 29,
   "id": "dc87251c",
   "metadata": {},
   "outputs": [],
   "source": [
    "x1=[0,1]\n",
    "y1=[0*m+c,1*m+c]"
   ]
  },
  {
   "cell_type": "code",
   "execution_count": 30,
   "id": "3088d640",
   "metadata": {},
   "outputs": [
    {
     "data": {
      "text/plain": [
       "[<matplotlib.lines.Line2D at 0x1cb73df0>]"
      ]
     },
     "execution_count": 30,
     "metadata": {},
     "output_type": "execute_result"
    },
    {
     "data": {
      "image/png": "[encoded data removed]",
      "text/plain": [
       "<Figure size 432x288 with 1 Axes>"
      ]
     },
     "metadata": {
      "needs_background": "light"
     },
     "output_type": "display_data"
    }
   ],
   "source": [
    "plt.scatter(x,y)\n",
    "plt.plot(x1,y1,color='red')"
   ]
  },
  {
   "cell_type": "markdown",
   "id": "9df8095f",
   "metadata": {},
   "source": [
    "# Policy_Sales_Channel vs Driving_License"
   ]
  },
  {
   "cell_type": "code",
   "execution_count": 31,
   "id": "4e2fd47a",
   "metadata": {},
   "outputs": [],
   "source": [
    "x=train_data.Driving_License.to_numpy()\n",
    "y=train_data.Policy_Sales_Channel.to_numpy()"
   ]
  },
  {
   "cell_type": "code",
   "execution_count": 32,
   "id": "dfa41c59",
   "metadata": {},
   "outputs": [
    {
     "data": {
      "text/plain": [
       "<matplotlib.collections.PathCollection at 0x1cbbea00>"
      ]
     },
     "execution_count": 32,
     "metadata": {},
     "output_type": "execute_result"
    },
    {
     "data": {
      "image/png": "[encoded data removed]",
      "text/plain": [
       "<Figure size 432x288 with 1 Axes>"
      ]
     },
     "metadata": {
      "needs_background": "light"
     },
     "output_type": "display_data"
    }
   ],
   "source": [
    "plt.scatter(x,y)"
   ]
  },
  {
   "cell_type": "code",
   "execution_count": 33,
   "id": "a41e5d99",
   "metadata": {},
   "outputs": [],
   "source": [
    "m,c=np.random.random(),np.random.random()"
   ]
  },
  {
   "cell_type": "code",
   "execution_count": 34,
   "id": "d3409673",
   "metadata": {},
   "outputs": [],
   "source": [
    "def learn(x,y,m,c,epoch):\n",
    "    for i in range(epoch):\n",
    "        error=y-(m*x+c)\n",
    "        x_error=(y-(m*x+c))*x\n",
    "        error=np.sum(error)/len(x)\n",
    "        x_error=np.sum(x_error)/len(x)\n",
    "        learning_rate = 0.01\n",
    "        delta_m= learning_rate *x_error\n",
    "        delta_c =learning_rate*error\n",
    "        m+=delta_m\n",
    "        c+=delta_c\n",
    "    return(m,c)  "
   ]
  },
  {
   "cell_type": "code",
   "execution_count": 35,
   "id": "4929c285",
   "metadata": {},
   "outputs": [],
   "source": [
    "m,c=learn(x,y,m,c,200)"
   ]
  },
  {
   "cell_type": "code",
   "execution_count": 36,
   "id": "4462ef31",
   "metadata": {},
   "outputs": [],
   "source": [
    "x1=[0,1]\n",
    "y1=[0*m+c,1*m+c]"
   ]
  },
  {
   "cell_type": "code",
   "execution_count": 37,
   "id": "7865438a",
   "metadata": {},
   "outputs": [
    {
     "data": {
      "text/plain": [
       "[<matplotlib.lines.Line2D at 0x1ce3c490>]"
      ]
     },
     "execution_count": 37,
     "metadata": {},
     "output_type": "execute_result"
    },
    {
     "data": {
      "image/png": "[encoded data removed]",
      "text/plain": [
       "<Figure size 432x288 with 1 Axes>"
      ]
     },
     "metadata": {
      "needs_background": "light"
     },
     "output_type": "display_data"
    }
   ],
   "source": [
    "plt.scatter(x,y)\n",
    "plt.plot(x1,y1,color='red')"
   ]
  },
  {
   "cell_type": "markdown",
   "id": "2338925b",
   "metadata": {},
   "source": [
    "# Multiple Regression"
   ]
  },
  {
   "cell_type": "code",
   "execution_count": 40,
   "id": "e88bc9f0",
   "metadata": {},
   "outputs": [
    {
     "name": "stdout",
     "output_type": "stream",
     "text": [
      "Training Set Dimensions: (304887, 11)\n",
      "Validation Set Dimensions: (76222, 11)\n"
     ]
    }
   ],
   "source": [
    "# Train Test Split\n",
    "# Split data to 80% of the training and 20% for the validation\n",
    "y = train_data['Policy_Sales_Channel']\n",
    "X = train_data.drop(columns=['Policy_Sales_Channel'])\n",
    "X_train, X_test, y_train, y_test = train_test_split(X, y, test_size=0.2)\n",
    "print(\"Training Set Dimensions:\", X_train.shape)\n",
    "print(\"Validation Set Dimensions:\", X_test.shape)"
   ]
  },
  {
   "cell_type": "code",
   "execution_count": 41,
   "id": "7e280774",
   "metadata": {},
   "outputs": [
    {
     "data": {
      "text/plain": [
       "LinearRegression()"
      ]
     },
     "execution_count": 41,
     "metadata": {},
     "output_type": "execute_result"
    }
   ],
   "source": [
    "model = LinearRegression()\n",
    "model.fit(X_train, y_train)"
   ]
  },
  {
   "cell_type": "code",
   "execution_count": 42,
   "id": "0da56fcb",
   "metadata": {},
   "outputs": [],
   "source": [
    "y_pred=model.predict(X_test)"
   ]
  },
  {
   "cell_type": "code",
   "execution_count": 43,
   "id": "da85d14f",
   "metadata": {},
   "outputs": [
    {
     "data": {
      "text/plain": [
       "array([ 64.5852735 , 106.67484968, 102.2186698 , 105.63842448,\n",
       "        56.17363168,  93.30168044, 149.50248815, 143.03352135,\n",
       "       151.98104852, 142.93053285])"
      ]
     },
     "execution_count": 43,
     "metadata": {},
     "output_type": "execute_result"
    }
   ],
   "source": [
    "y_pred[1:11]"
   ]
  },
  {
   "cell_type": "code",
   "execution_count": 44,
   "id": "70e0feaf",
   "metadata": {},
   "outputs": [
    {
     "name": "stdout",
     "output_type": "stream",
     "text": [
      "Mean squared Error for Test Set: 1885.8090526448316\n"
     ]
    }
   ],
   "source": [
    "# Measure mean squared error for validation sets\n",
    "print('Mean squared Error for Test Set:', mean_squared_error(y_test, y_pred))"
   ]
  },
  {
   "cell_type": "code",
   "execution_count": 45,
   "id": "442d4177",
   "metadata": {},
   "outputs": [
    {
     "name": "stdout",
     "output_type": "stream",
     "text": [
      "Mean absolute Error for Test Set: 32.919779992070175\n"
     ]
    }
   ],
   "source": [
    "from sklearn.metrics import mean_absolute_error\n",
    "# Measure mean absolute error for validation sets\n",
    "print('Mean absolute Error for Test Set:', mean_absolute_error(y_test, y_pred))"
   ]
  },
  {
   "cell_type": "code",
   "execution_count": 46,
   "id": "1848fa54",
   "metadata": {},
   "outputs": [],
   "source": [
    "from sklearn.metrics import r2_score"
   ]
  },
  {
   "cell_type": "code",
   "execution_count": 47,
   "id": "c6debe4e",
   "metadata": {},
   "outputs": [
    {
     "name": "stdout",
     "output_type": "stream",
     "text": [
      "R-squared Error for Test Set: 0.35925184124474707\n"
     ]
    }
   ],
   "source": [
    "# Measure R-squared for validation sets\n",
    "print('R-squared Error for Test Set:', r2_score(y_test, y_pred))"
   ]
  },
  {
   "cell_type": "markdown",
   "id": "b9d3d20a",
   "metadata": {},
   "source": [
    "# KNN Model: K-Nearest Neighbors Model"
   ]
  },
  {
   "cell_type": "code",
   "execution_count": 48,
   "id": "86aaae24",
   "metadata": {},
   "outputs": [],
   "source": [
    "from sklearn.neighbors import KNeighborsRegressor"
   ]
  },
  {
   "cell_type": "code",
   "execution_count": 49,
   "id": "efce90e6",
   "metadata": {},
   "outputs": [
    {
     "name": "stdout",
     "output_type": "stream",
     "text": [
      "Mean squared Error for Training Set: 2245.419180483261\n",
      "Mean squared Error for Test Set: 3378.6482810737057\n"
     ]
    }
   ],
   "source": [
    "# Fit model\n",
    "knr = KNeighborsRegressor(n_neighbors = 5)\n",
    "knr.fit(X_train, y_train)\n",
    "\n",
    "# Measure mean squared error for training and validation sets\n",
    "print('Mean squared Error for Training Set:', mean_squared_error(y_train, knr.predict(X_train)))\n",
    "print('Mean squared Error for Test Set:', mean_squared_error(y_test, knr.predict(X_test)))"
   ]
  },
  {
   "cell_type": "markdown",
   "id": "734c79a7",
   "metadata": {},
   "source": [
    "# Random Forest Regressor"
   ]
  },
  {
   "cell_type": "code",
   "execution_count": 50,
   "id": "3597a0ab",
   "metadata": {},
   "outputs": [],
   "source": [
    "from sklearn.ensemble import RandomForestRegressor"
   ]
  },
  {
   "cell_type": "code",
   "execution_count": 53,
   "id": "728d689f",
   "metadata": {},
   "outputs": [
    {
     "name": "stdout",
     "output_type": "stream",
     "text": [
      "Mean squared Error for Training Set: 260.03141731067575\n",
      "Mean squared Error for Test Set: 1818.2996914014327\n"
     ]
    }
   ],
   "source": [
    "# Train Random Forest Regressor\n",
    "randomf = RandomForestRegressor(n_estimators=50)\n",
    "randomf.fit(X_train, y_train)\n",
    "\n",
    "# Measure mean squared error for training and validation sets\n",
    "print('Mean squared Error for Training Set:', mean_squared_error(y_train, randomf.predict(X_train)))\n",
    "print('Mean squared Error for Test Set:', mean_squared_error(y_test, randomf.predict(X_test)))"
   ]
  },
  {
   "cell_type": "code",
   "execution_count": 54,
   "id": "e088d901",
   "metadata": {},
   "outputs": [
    {
     "name": "stdout",
     "output_type": "stream",
     "text": [
      "feature: id = 0.16542237341118524\n",
      "feature: Gender = 0.013514839682512408\n",
      "feature: Age = 0.4316807936161951\n",
      "feature: Driving_License = 0.0005999408680303731\n",
      "feature: Region_Code = 0.056850339367500495\n",
      "feature: Previously_Insured = 0.010409260848805193\n",
      "feature: Vehicle_Age = 0.02371921491644202\n",
      "feature: Vehicle_Damage = 0.010104551369982229\n",
      "feature: Annual_Premium = 0.13655062215771166\n",
      "feature: Vintage = 0.14290380287946636\n",
      "feature: Response = 0.008244260882168904\n"
     ]
    },
    {
     "data": {
      "image/png": "[encoded data removed]",
      "text/plain": [
       "<Figure size 432x288 with 1 Axes>"
      ]
     },
     "metadata": {
      "needs_background": "light"
     },
     "output_type": "display_data"
    }
   ],
   "source": [
    "# Important features for random forest regressor\n",
    "for name, importance in zip(X.columns, randomf.feature_importances_):\n",
    "    print('feature:', name, \"=\", importance)\n",
    "    \n",
    "importances = randomf.feature_importances_\n",
    "indices = np.argsort(importances)\n",
    "features = X.columns\n",
    "plt.figure(figsize=(6, 4))\n",
    "plt.title('Feature Importances')\n",
    "plt.barh(range(len(indices)), importances[indices], color='g', align='center')\n",
    "plt.yticks(range(len(indices)), [features[i] for i in indices])\n",
    "plt.xlabel('Relative Importance')\n",
    "plt.show()"
   ]
  },
  {
   "cell_type": "markdown",
   "id": "9a31490e",
   "metadata": {},
   "source": [
    "# Bagging Regressor"
   ]
  },
  {
   "cell_type": "code",
   "execution_count": 55,
   "id": "7099cbc4",
   "metadata": {},
   "outputs": [],
   "source": [
    "from sklearn.ensemble import BaggingRegressor "
   ]
  },
  {
   "cell_type": "code",
   "execution_count": 56,
   "id": "1cc4a0b0",
   "metadata": {},
   "outputs": [
    {
     "name": "stdout",
     "output_type": "stream",
     "text": [
      "Mean squared Error for Training Set: 343.37861158396385\n",
      "Mean squared Error for Test Set: 1945.3386800398835\n"
     ]
    }
   ],
   "source": [
    "# Fit model\n",
    "br = BaggingRegressor(random_state=42)\n",
    "                            \n",
    "br.fit(X_train, y_train)\n",
    "\n",
    "# Measure mean squared error for training and validation sets\n",
    "print('Mean squared Error for Training Set:', mean_squared_error(y_train, br.predict(X_train)))\n",
    "print('Mean squared Error for Test Set:', mean_squared_error(y_test, br.predict(X_test)))"
   ]
  },
  {
   "cell_type": "markdown",
   "id": "cd569ef6",
   "metadata": {},
   "source": [
    "# Ridge Regression"
   ]
  },
  {
   "cell_type": "code",
   "execution_count": 57,
   "id": "8042bacb",
   "metadata": {},
   "outputs": [],
   "source": [
    "X = train_data[['Driving_License','Previously_Insured','Vehicle_Age']]\n",
    "Y = train_data['Policy_Sales_Channel']"
   ]
  },
  {
   "cell_type": "code",
   "execution_count": 58,
   "id": "b93b7fab",
   "metadata": {},
   "outputs": [
    {
     "name": "stdout",
     "output_type": "stream",
     "text": [
      "(304887, 3) (76222, 3) (304887,) (76222,)\n"
     ]
    }
   ],
   "source": [
    "from sklearn.model_selection import train_test_split\n",
    "X_train,X_test,y_train,y_test=train_test_split(X,Y,test_size=0.20,random_state=1)\n",
    "print(X_train.shape, X_test.shape, y_train.shape,y_test.shape)"
   ]
  },
  {
   "cell_type": "code",
   "execution_count": 59,
   "id": "4be30247",
   "metadata": {},
   "outputs": [
    {
     "data": {
      "text/plain": [
       "2420.5118680811775"
      ]
     },
     "execution_count": 59,
     "metadata": {},
     "output_type": "execute_result"
    }
   ],
   "source": [
    "from sklearn.linear_model import Ridge\n",
    "ridgeReg=Ridge(alpha=0.05, normalize=True)\n",
    "ridgeReg.fit(X_train,y_train)\n",
    "pred=ridgeReg.predict(X_test)\n",
    "mse=np.mean((pred-y_test)**2)\n",
    "mse"
   ]
  },
  {
   "cell_type": "code",
   "execution_count": 60,
   "id": "954fe936",
   "metadata": {},
   "outputs": [
    {
     "name": "stdout",
     "output_type": "stream",
     "text": [
      "[35.04236752 16.44851209 32.33923342]\n",
      "Intercept: 52.812\n",
      "R2 score : 0.174\n",
      "MSE: 2420.512\n",
      "RMSE: 49.199\n",
      "MAE: 6.421\n"
     ]
    }
   ],
   "source": [
    "from sklearn.metrics import mean_squared_error, r2_score, mean_absolute_error\n",
    "from math import sqrt\n",
    "print(ridgeReg.coef_)\n",
    "print(\"Intercept: %0.3f\" % ridgeReg.intercept_)\n",
    "print(\"R2 score : %.3f\" % r2_score(y_test,ridgeReg.predict(X_test)))\n",
    "print(\"MSE: %.3f\" % mean_squared_error(y_test, ridgeReg.predict(X_test)))\n",
    "print(\"RMSE: %.3f\" % sqrt(mean_squared_error(y_test, ridgeReg.predict(X_test))))\n",
    "print(\"MAE: %.3f\" % sqrt(mean_absolute_error(y_test, ridgeReg.predict(X_test))))"
   ]
  },
  {
   "cell_type": "code",
   "execution_count": 61,
   "id": "d2fec357",
   "metadata": {},
   "outputs": [
    {
     "data": {
      "text/html": [
       "<table class=\"simpletable\">\n",
       "<caption>OLS Regression Results</caption>\n",
       "<tr>\n",
       "  <th>Dep. Variable:</th>    <td>Policy_Sales_Channel</td> <th>  R-squared:         </th>  <td>   0.176</td>  \n",
       "</tr>\n",
       "<tr>\n",
       "  <th>Model:</th>                     <td>OLS</td>         <th>  Adj. R-squared:    </th>  <td>   0.176</td>  \n",
       "</tr>\n",
       "<tr>\n",
       "  <th>Method:</th>               <td>Least Squares</td>    <th>  F-statistic:       </th>  <td>2.170e+04</td> \n",
       "</tr>\n",
       "<tr>\n",
       "  <th>Date:</th>               <td>Sat, 18 Jun 2022</td>   <th>  Prob (F-statistic):</th>   <td>  0.00</td>   \n",
       "</tr>\n",
       "<tr>\n",
       "  <th>Time:</th>                   <td>21:42:41</td>       <th>  Log-Likelihood:    </th> <td>-1.6206e+06</td>\n",
       "</tr>\n",
       "<tr>\n",
       "  <th>No. Observations:</th>        <td>304887</td>        <th>  AIC:               </th>  <td>3.241e+06</td> \n",
       "</tr>\n",
       "<tr>\n",
       "  <th>Df Residuals:</th>            <td>304883</td>        <th>  BIC:               </th>  <td>3.241e+06</td> \n",
       "</tr>\n",
       "<tr>\n",
       "  <th>Df Model:</th>                <td>     3</td>        <th>                     </th>      <td> </td>     \n",
       "</tr>\n",
       "<tr>\n",
       "  <th>Covariance Type:</th>        <td>nonrobust</td>      <th>                     </th>      <td> </td>     \n",
       "</tr>\n",
       "</table>\n",
       "<table class=\"simpletable\">\n",
       "<tr>\n",
       "           <td></td>             <th>coef</th>     <th>std err</th>      <th>t</th>      <th>P>|t|</th>  <th>[0.025</th>    <th>0.975]</th>  \n",
       "</tr>\n",
       "<tr>\n",
       "  <th>const</th>              <td>   50.6994</td> <td>    1.942</td> <td>   26.108</td> <td> 0.000</td> <td>   46.893</td> <td>   54.505</td>\n",
       "</tr>\n",
       "<tr>\n",
       "  <th>Driving_License</th>    <td>   36.1291</td> <td>    1.944</td> <td>   18.583</td> <td> 0.000</td> <td>   32.319</td> <td>   39.940</td>\n",
       "</tr>\n",
       "<tr>\n",
       "  <th>Previously_Insured</th> <td>   16.9591</td> <td>    0.182</td> <td>   93.332</td> <td> 0.000</td> <td>   16.603</td> <td>   17.315</td>\n",
       "</tr>\n",
       "<tr>\n",
       "  <th>Vehicle_Age</th>        <td>   33.8770</td> <td>    0.157</td> <td>  216.192</td> <td> 0.000</td> <td>   33.570</td> <td>   34.184</td>\n",
       "</tr>\n",
       "</table>\n",
       "<table class=\"simpletable\">\n",
       "<tr>\n",
       "  <th>Omnibus:</th>       <td>31636.318</td> <th>  Durbin-Watson:     </th> <td>   2.001</td> \n",
       "</tr>\n",
       "<tr>\n",
       "  <th>Prob(Omnibus):</th>  <td> 0.000</td>   <th>  Jarque-Bera (JB):  </th> <td>41518.796</td>\n",
       "</tr>\n",
       "<tr>\n",
       "  <th>Skew:</th>           <td>-0.894</td>   <th>  Prob(JB):          </th> <td>    0.00</td> \n",
       "</tr>\n",
       "<tr>\n",
       "  <th>Kurtosis:</th>       <td> 2.727</td>   <th>  Cond. No.          </th> <td>    49.2</td> \n",
       "</tr>\n",
       "</table><br/><br/>Notes:<br/>[1] Standard Errors assume that the covariance matrix of the errors is correctly specified."
      ],
      "text/plain": [
       "<class 'statsmodels.iolib.summary.Summary'>\n",
       "\"\"\"\n",
       "                             OLS Regression Results                             \n",
       "================================================================================\n",
       "Dep. Variable:     Policy_Sales_Channel   R-squared:                       0.176\n",
       "Model:                              OLS   Adj. R-squared:                  0.176\n",
       "Method:                   Least Squares   F-statistic:                 2.170e+04\n",
       "Date:                  Sat, 18 Jun 2022   Prob (F-statistic):               0.00\n",
       "Time:                          21:42:41   Log-Likelihood:            -1.6206e+06\n",
       "No. Observations:                304887   AIC:                         3.241e+06\n",
       "Df Residuals:                    304883   BIC:                         3.241e+06\n",
       "Df Model:                             3                                         \n",
       "Covariance Type:              nonrobust                                         \n",
       "======================================================================================\n",
       "                         coef    std err          t      P>|t|      [0.025      0.975]\n",
       "--------------------------------------------------------------------------------------\n",
       "const                 50.6994      1.942     26.108      0.000      46.893      54.505\n",
       "Driving_License       36.1291      1.944     18.583      0.000      32.319      39.940\n",
       "Previously_Insured    16.9591      0.182     93.332      0.000      16.603      17.315\n",
       "Vehicle_Age           33.8770      0.157    216.192      0.000      33.570      34.184\n",
       "==============================================================================\n",
       "Omnibus:                    31636.318   Durbin-Watson:                   2.001\n",
       "Prob(Omnibus):                  0.000   Jarque-Bera (JB):            41518.796\n",
       "Skew:                          -0.894   Prob(JB):                         0.00\n",
       "Kurtosis:                       2.727   Cond. No.                         49.2\n",
       "==============================================================================\n",
       "\n",
       "Notes:\n",
       "[1] Standard Errors assume that the covariance matrix of the errors is correctly specified.\n",
       "\"\"\""
      ]
     },
     "execution_count": 61,
     "metadata": {},
     "output_type": "execute_result"
    }
   ],
   "source": [
    "import statsmodels.api as sm\n",
    "X_train_sm=sm.add_constant(X_train)\n",
    "lr=sm.OLS(y_train,X_train_sm).fit()\n",
    "lr.params\n",
    "lr.summary()"
   ]
  },
  {
   "cell_type": "markdown",
   "id": "e058afd2",
   "metadata": {},
   "source": [
    "# Conclusion"
   ]
  },
  {
   "cell_type": "markdown",
   "id": "2a270b3e",
   "metadata": {},
   "source": [
    "### Among all the applied techniques random forest model is best as it has lowest mse which can be further reduced by increasing number of estimators(initially considered 50) and rest all has high values and in ranfom forest regressor we also have shown each feature importance."
   ]
  },
  {
   "cell_type": "code",
   "execution_count": null,
   "id": "bb0495d1",
   "metadata": {},
   "outputs": [],
   "source": []
  }
 ],
 "metadata": {
  "kernelspec": {
   "display_name": "Python 3 (ipykernel)",
   "language": "python",
   "name": "python3"
  },
  "language_info": {
   "codemirror_mode": {
    "name": "ipython",
    "version": 3
   },
   "file_extension": ".py",
   "mimetype": "text/x-python",
   "name": "python",
   "nbconvert_exporter": "python",
   "pygments_lexer": "ipython3",
   "version": "3.8.8"
  }
 },
 "nbformat": 4,
 "nbformat_minor": 5
}
